{
  "cells": [
    {
      "cell_type": "markdown",
      "metadata": {},
      "source": [
        "#  Assignment 2 Data Analysis: Recommendation System for Baby Products (13) \n",
        "## Ficara Damiano, Marenco Turi Gualtiero \n"
      ]
    },
    {
      "cell_type": "markdown",
      "metadata": {
        "id": "DFumi3Dp5huu"
      },
      "source": [
        "## Imports"
      ]
    },
    {
      "cell_type": "markdown",
      "metadata": {},
      "source": [
        "This section is critical for importing all the libraries needed to execute the code; it was decided to put all the libraries in one section so that we would not forget to import something and have import problems.\n",
        "To install the surprise library for matrix factorization, it was necessary to manually adjust the version of NumPy. The current release of NumPy (2.0.2) is incompatible with scikit-surprise, which has not yet been updated to support this major version change. As a workaround, we explicitly downgraded NumPy to an old version"
      ]
    },
    {
      "cell_type": "code",
      "execution_count": 1,
      "metadata": {},
      "outputs": [
        {
          "name": "stdout",
          "output_type": "stream",
          "text": [
            "Requirement already satisfied: numpy==1.24.4 in /opt/anaconda3/envs/surpriseenv/lib/python3.10/site-packages (1.24.4)\n",
            "Collecting surprise\n",
            "  Downloading surprise-0.1-py2.py3-none-any.whl.metadata (327 bytes)\n",
            "Requirement already satisfied: scikit-surprise in /opt/anaconda3/envs/surpriseenv/lib/python3.10/site-packages (from surprise) (1.1.4)\n",
            "Requirement already satisfied: joblib>=1.2.0 in /opt/anaconda3/envs/surpriseenv/lib/python3.10/site-packages (from scikit-surprise->surprise) (1.5.0)\n",
            "Requirement already satisfied: numpy>=1.19.5 in /opt/anaconda3/envs/surpriseenv/lib/python3.10/site-packages (from scikit-surprise->surprise) (1.24.4)\n",
            "Requirement already satisfied: scipy>=1.6.0 in /opt/anaconda3/envs/surpriseenv/lib/python3.10/site-packages (from scikit-surprise->surprise) (1.15.3)\n",
            "Downloading surprise-0.1-py2.py3-none-any.whl (1.8 kB)\n",
            "Installing collected packages: surprise\n",
            "Successfully installed surprise-0.1\n"
          ]
        }
      ],
      "source": [
        "!pip install numpy==1.24.4\n",
        "!pip install surprise"
      ]
    },
    {
      "cell_type": "code",
      "execution_count": 5,
      "metadata": {
        "id": "QjIJQHpVXw1_"
      },
      "outputs": [],
      "source": [
        "# Imports to run the code\n",
        "#from google.colab import files\n",
        "import pandas as pd\n",
        "import matplotlib.pyplot as plt\n",
        "import numpy as np\n",
        "import seaborn as sns\n",
        "from sklearn.neighbors import NearestNeighbors\n",
        "from scipy.sparse import csr_matrix\n",
        "import json\n",
        "from tqdm import tqdm\n",
        "from sklearn.model_selection import train_test_split\n",
        "from sklearn.metrics import mean_squared_error, mean_absolute_error\n",
        "from scipy.sparse import csr_matrix\n",
        "from sklearn.metrics.pairwise import cosine_similarity, linear_kernel\n",
        "from surprise import SVD, Dataset, Reader, accuracy\n",
        "from surprise.model_selection import train_test_split as surprise_split, GridSearchCV\n",
        "import pandas as pd\n",
        "import ast\n",
        "from sklearn.feature_extraction.text import TfidfVectorizer"
      ]
    },
    {
      "cell_type": "markdown",
      "metadata": {},
      "source": [
        "**READ THIS!!!**\n",
        "While we used colab for sharing and working remote, trying to run this on Colab without Premium will result in using all available ram midway through it. Run this notebook locally!\n"
      ]
    },
    {
      "cell_type": "code",
      "execution_count": 3,
      "metadata": {
        "colab": {
          "base_uri": "https://localhost:8080/",
          "height": 109
        },
        "id": "2DZ54RwhX_-q",
        "outputId": "cd215ea2-c5dd-4f53-be7a-d277cb2219f3"
      },
      "outputs": [],
      "source": [
        "#upload files 4 colab\n",
        "#uploaded = files.upload()"
      ]
    },
    {
      "cell_type": "markdown",
      "metadata": {
        "id": "HuLGb7FDIi4a"
      },
      "source": [
        "# Data Pre-processing : Load and Explore Data"
      ]
    },
    {
      "cell_type": "markdown",
      "metadata": {},
      "source": [
        "Load metadata (very large file). Initially attempted using ```json.loads()```, but due to inconsistent formatting in the file e.g., single quotes, trailing commas), we switched to ast.literal_eval for robustness. ast is more tolerant and safely parses each line as a Python dict."
      ]
    },
    {
      "cell_type": "code",
      "execution_count": 6,
      "metadata": {
        "colab": {
          "base_uri": "https://localhost:8080/"
        },
        "id": "pjIn-cbHlBa9",
        "outputId": "f436f843-317c-40b3-d505-6c11d6c62a89"
      },
      "outputs": [],
      "source": [
        "#meta data loading, it'very heavy\n",
        "data = []\n",
        "with open(\"meta_Baby.json\", \"r\") as f:\n",
        "    for i, line in enumerate(f):\n",
        "        try:\n",
        "            obj = ast.literal_eval(line)\n",
        "            data.append(obj)\n",
        "        except Exception as e:\n",
        "            print(f\"Error at row {i}: {e}\")\n",
        "meta_df = pd.DataFrame(data)"
      ]
    },
    {
      "cell_type": "code",
      "execution_count": null,
      "metadata": {},
      "outputs": [
        {
          "data": {
            "text/html": [
              "<div>\n",
              "<style scoped>\n",
              "    .dataframe tbody tr th:only-of-type {\n",
              "        vertical-align: middle;\n",
              "    }\n",
              "\n",
              "    .dataframe tbody tr th {\n",
              "        vertical-align: top;\n",
              "    }\n",
              "\n",
              "    .dataframe thead th {\n",
              "        text-align: right;\n",
              "    }\n",
              "</style>\n",
              "<table border=\"1\" class=\"dataframe\">\n",
              "  <thead>\n",
              "    <tr style=\"text-align: right;\">\n",
              "      <th></th>\n",
              "      <th>asin</th>\n",
              "      <th>categories</th>\n",
              "      <th>description</th>\n",
              "      <th>title</th>\n",
              "      <th>price</th>\n",
              "      <th>imUrl</th>\n",
              "      <th>brand</th>\n",
              "      <th>related</th>\n",
              "      <th>salesRank</th>\n",
              "    </tr>\n",
              "  </thead>\n",
              "  <tbody>\n",
              "    <tr>\n",
              "      <th>0</th>\n",
              "      <td>0188399313</td>\n",
              "      <td>[[Baby]]</td>\n",
              "      <td>Wee-Go Glass baby bottles by LifeFactory (Baby...</td>\n",
              "      <td>Lifefactory 4oz BPA Free Glass Baby Bottles - ...</td>\n",
              "      <td>69.99</td>\n",
              "      <td>http://ecx.images-amazon.com/images/I/41Swthpd...</td>\n",
              "      <td>Lifefactory</td>\n",
              "      <td>{'also_bought': ['B002SG7K7A', 'B003CJSXW8', '...</td>\n",
              "      <td>NaN</td>\n",
              "    </tr>\n",
              "    <tr>\n",
              "      <th>1</th>\n",
              "      <td>0188399518</td>\n",
              "      <td>[[Baby]]</td>\n",
              "      <td>The Planet Wise Flannel Wipes are 10 super sof...</td>\n",
              "      <td>Planetwise Flannel Wipes</td>\n",
              "      <td>15.95</td>\n",
              "      <td>http://ecx.images-amazon.com/images/I/41otjnA4...</td>\n",
              "      <td>Planet Wise</td>\n",
              "      <td>{'also_bought': ['B00G96N3YY', 'B003XSEV2O', '...</td>\n",
              "      <td>NaN</td>\n",
              "    </tr>\n",
              "    <tr>\n",
              "      <th>2</th>\n",
              "      <td>0188399399</td>\n",
              "      <td>[[Baby]]</td>\n",
              "      <td>The Planet Wise Wipe PouchTM features our pate...</td>\n",
              "      <td>Planetwise Wipe Pouch</td>\n",
              "      <td>10.95</td>\n",
              "      <td>http://ecx.images-amazon.com/images/I/61x8h9u6...</td>\n",
              "      <td>NaN</td>\n",
              "      <td>{'also_bought': ['B005WWI0DA', 'B005WWIMGA', '...</td>\n",
              "      <td>NaN</td>\n",
              "    </tr>\n",
              "    <tr>\n",
              "      <th>3</th>\n",
              "      <td>0316967297</td>\n",
              "      <td>[[Baby]]</td>\n",
              "      <td>Hand crafted set includes 1 full quilt (76x86 ...</td>\n",
              "      <td>Annas Dream Full Quilt with 2 Shams</td>\n",
              "      <td>109.95</td>\n",
              "      <td>http://ecx.images-amazon.com/images/I/51%2BZ1%...</td>\n",
              "      <td>NaN</td>\n",
              "      <td>{'also_viewed': ['B009LTER3W', 'B00575TI5Q', '...</td>\n",
              "      <td>NaN</td>\n",
              "    </tr>\n",
              "    <tr>\n",
              "      <th>4</th>\n",
              "      <td>0615447279</td>\n",
              "      <td>[[Baby]]</td>\n",
              "      <td>Thumbuddy To Love- The Binky Fairy helps child...</td>\n",
              "      <td>Stop Pacifier Sucking without tears with Thumb...</td>\n",
              "      <td>16.95</td>\n",
              "      <td>http://ecx.images-amazon.com/images/I/51RKKENl...</td>\n",
              "      <td></td>\n",
              "      <td>{'also_bought': ['0979670004', '1601310234', '...</td>\n",
              "      <td>NaN</td>\n",
              "    </tr>\n",
              "    <tr>\n",
              "      <th>...</th>\n",
              "      <td>...</td>\n",
              "      <td>...</td>\n",
              "      <td>...</td>\n",
              "      <td>...</td>\n",
              "      <td>...</td>\n",
              "      <td>...</td>\n",
              "      <td>...</td>\n",
              "      <td>...</td>\n",
              "      <td>...</td>\n",
              "    </tr>\n",
              "    <tr>\n",
              "      <th>71312</th>\n",
              "      <td>B00LL4K3GU</td>\n",
              "      <td>[[Baby]]</td>\n",
              "      <td>Abstract Soft Spout Training is an ideal optio...</td>\n",
              "      <td>Abstract 2 PK Baby / Toddler Training Cup (Pink)</td>\n",
              "      <td>NaN</td>\n",
              "      <td>http://ecx.images-amazon.com/images/I/41wXwyCd...</td>\n",
              "      <td>NaN</td>\n",
              "      <td>NaN</td>\n",
              "      <td>NaN</td>\n",
              "    </tr>\n",
              "    <tr>\n",
              "      <th>71313</th>\n",
              "      <td>B00LLEOSUW</td>\n",
              "      <td>[[Baby]]</td>\n",
              "      <td>Introducing the Tutti Bimbi Baby Food Freezer ...</td>\n",
              "      <td>Baby Food Freezer Tray - Bacteria Resistant, B...</td>\n",
              "      <td>17.95</td>\n",
              "      <td>http://ecx.images-amazon.com/images/I/31HI7L%2...</td>\n",
              "      <td>NaN</td>\n",
              "      <td>{'also_viewed': ['B0027UYT4O', 'B004A9ZF3Y', '...</td>\n",
              "      <td>NaN</td>\n",
              "    </tr>\n",
              "    <tr>\n",
              "      <th>71314</th>\n",
              "      <td>B00LPFHMNM</td>\n",
              "      <td>[[Baby]]</td>\n",
              "      <td>With a new packaging, our best-selling shampoo...</td>\n",
              "      <td>Shampoo Fudge Clean Blonde Violet Toning Shamp...</td>\n",
              "      <td>NaN</td>\n",
              "      <td>http://ecx.images-amazon.com/images/I/41sFcpvs...</td>\n",
              "      <td>NaN</td>\n",
              "      <td>{'also_viewed': ['B003Z922MC', 'B001W6Q2KS', '...</td>\n",
              "      <td>NaN</td>\n",
              "    </tr>\n",
              "    <tr>\n",
              "      <th>71315</th>\n",
              "      <td>B00LQXWHXI</td>\n",
              "      <td>[[Baby]]</td>\n",
              "      <td>The Best Baby Shade Ever!\"I have never been ha...</td>\n",
              "      <td>Best 2 Pack Baby Car Shade for Kids - Window S...</td>\n",
              "      <td>9.96</td>\n",
              "      <td>http://ecx.images-amazon.com/images/I/41LGiDVu...</td>\n",
              "      <td>NaN</td>\n",
              "      <td>{'also_viewed': ['B00K80DFUY', 'B00KF2SCMQ', '...</td>\n",
              "      <td>NaN</td>\n",
              "    </tr>\n",
              "    <tr>\n",
              "      <th>71316</th>\n",
              "      <td>B00M08188I</td>\n",
              "      <td>[[Baby]]</td>\n",
              "      <td>EasyGoPro Ergonomic Toilet Footrest70 Day Mone...</td>\n",
              "      <td>easyGopro Ergonomic Toilet Footrest for Easier...</td>\n",
              "      <td>21.99</td>\n",
              "      <td>http://ecx.images-amazon.com/images/I/31LgOaDu...</td>\n",
              "      <td>NaN</td>\n",
              "      <td>{'also_viewed': ['B008G9B11E', 'B00G5PTWT4', '...</td>\n",
              "      <td>NaN</td>\n",
              "    </tr>\n",
              "  </tbody>\n",
              "</table>\n",
              "<p>71317 rows × 9 columns</p>\n",
              "</div>"
            ],
            "text/plain": [
              "             asin categories  \\\n",
              "0      0188399313   [[Baby]]   \n",
              "1      0188399518   [[Baby]]   \n",
              "2      0188399399   [[Baby]]   \n",
              "3      0316967297   [[Baby]]   \n",
              "4      0615447279   [[Baby]]   \n",
              "...           ...        ...   \n",
              "71312  B00LL4K3GU   [[Baby]]   \n",
              "71313  B00LLEOSUW   [[Baby]]   \n",
              "71314  B00LPFHMNM   [[Baby]]   \n",
              "71315  B00LQXWHXI   [[Baby]]   \n",
              "71316  B00M08188I   [[Baby]]   \n",
              "\n",
              "                                             description  \\\n",
              "0      Wee-Go Glass baby bottles by LifeFactory (Baby...   \n",
              "1      The Planet Wise Flannel Wipes are 10 super sof...   \n",
              "2      The Planet Wise Wipe PouchTM features our pate...   \n",
              "3      Hand crafted set includes 1 full quilt (76x86 ...   \n",
              "4      Thumbuddy To Love- The Binky Fairy helps child...   \n",
              "...                                                  ...   \n",
              "71312  Abstract Soft Spout Training is an ideal optio...   \n",
              "71313  Introducing the Tutti Bimbi Baby Food Freezer ...   \n",
              "71314  With a new packaging, our best-selling shampoo...   \n",
              "71315  The Best Baby Shade Ever!\"I have never been ha...   \n",
              "71316  EasyGoPro Ergonomic Toilet Footrest70 Day Mone...   \n",
              "\n",
              "                                                   title   price  \\\n",
              "0      Lifefactory 4oz BPA Free Glass Baby Bottles - ...   69.99   \n",
              "1                               Planetwise Flannel Wipes   15.95   \n",
              "2                                  Planetwise Wipe Pouch   10.95   \n",
              "3                    Annas Dream Full Quilt with 2 Shams  109.95   \n",
              "4      Stop Pacifier Sucking without tears with Thumb...   16.95   \n",
              "...                                                  ...     ...   \n",
              "71312   Abstract 2 PK Baby / Toddler Training Cup (Pink)     NaN   \n",
              "71313  Baby Food Freezer Tray - Bacteria Resistant, B...   17.95   \n",
              "71314  Shampoo Fudge Clean Blonde Violet Toning Shamp...     NaN   \n",
              "71315  Best 2 Pack Baby Car Shade for Kids - Window S...    9.96   \n",
              "71316  easyGopro Ergonomic Toilet Footrest for Easier...   21.99   \n",
              "\n",
              "                                                   imUrl        brand  \\\n",
              "0      http://ecx.images-amazon.com/images/I/41Swthpd...  Lifefactory   \n",
              "1      http://ecx.images-amazon.com/images/I/41otjnA4...  Planet Wise   \n",
              "2      http://ecx.images-amazon.com/images/I/61x8h9u6...          NaN   \n",
              "3      http://ecx.images-amazon.com/images/I/51%2BZ1%...          NaN   \n",
              "4      http://ecx.images-amazon.com/images/I/51RKKENl...                \n",
              "...                                                  ...          ...   \n",
              "71312  http://ecx.images-amazon.com/images/I/41wXwyCd...          NaN   \n",
              "71313  http://ecx.images-amazon.com/images/I/31HI7L%2...          NaN   \n",
              "71314  http://ecx.images-amazon.com/images/I/41sFcpvs...          NaN   \n",
              "71315  http://ecx.images-amazon.com/images/I/41LGiDVu...          NaN   \n",
              "71316  http://ecx.images-amazon.com/images/I/31LgOaDu...          NaN   \n",
              "\n",
              "                                                 related salesRank  \n",
              "0      {'also_bought': ['B002SG7K7A', 'B003CJSXW8', '...       NaN  \n",
              "1      {'also_bought': ['B00G96N3YY', 'B003XSEV2O', '...       NaN  \n",
              "2      {'also_bought': ['B005WWI0DA', 'B005WWIMGA', '...       NaN  \n",
              "3      {'also_viewed': ['B009LTER3W', 'B00575TI5Q', '...       NaN  \n",
              "4      {'also_bought': ['0979670004', '1601310234', '...       NaN  \n",
              "...                                                  ...       ...  \n",
              "71312                                                NaN       NaN  \n",
              "71313  {'also_viewed': ['B0027UYT4O', 'B004A9ZF3Y', '...       NaN  \n",
              "71314  {'also_viewed': ['B003Z922MC', 'B001W6Q2KS', '...       NaN  \n",
              "71315  {'also_viewed': ['B00K80DFUY', 'B00KF2SCMQ', '...       NaN  \n",
              "71316  {'also_viewed': ['B008G9B11E', 'B00G5PTWT4', '...       NaN  \n",
              "\n",
              "[71317 rows x 9 columns]"
            ]
          },
          "execution_count": 60,
          "metadata": {},
          "output_type": "execute_result"
        }
      ],
      "source": [
        "meta_df"
      ]
    },
    {
      "cell_type": "markdown",
      "metadata": {},
      "source": [
        "We decided to rename the columns of the ratings dataset because the original file lacks headers and uses positional data only. To improve readability and usability throughout the analysis, we assigned meaningful names: `user`, `item`, `rating`, and `timestamp`, corresponding respectively to the user ID, product ASIN, rating value, and the time of the interaction.\n"
      ]
    },
    {
      "cell_type": "code",
      "execution_count": 7,
      "metadata": {
        "colab": {
          "base_uri": "https://localhost:8080/"
        },
        "id": "bD0JV7LkDkpE",
        "outputId": "e012d477-601d-4079-b2db-9d713bde3316"
      },
      "outputs": [
        {
          "name": "stdout",
          "output_type": "stream",
          "text": [
            "Ratings dataset:\n",
            "             user        item  rating   timestamp\n",
            "0  A28O3NP6WR5517  0188399313     5.0  1369612800\n",
            "1   AX0M1Z6ZWO52J  0188399399     5.0  1365465600\n",
            "2  A1KD7N84L7NIUT  0188399518     4.0  1392336000\n",
            "3  A29CUDEIF4X1UO  0188399518     3.0  1373241600\n",
            "4  A32592TYN6C9EM  0316967297     4.0  1378425600\n"
          ]
        }
      ],
      "source": [
        "# load ratings dataset\n",
        "ratings = pd.read_csv(\"ratings_Baby.csv\", names=['user', 'item', 'rating', 'timestamp']) #unnamed variables are now named\n",
        "\n",
        "print(\"Ratings dataset:\")\n",
        "print(ratings.head())"
      ]
    },
    {
      "cell_type": "markdown",
      "metadata": {},
      "source": [
        "To facilitate quick access to product titles from their ASINs, we built a dictionary mapping each `asin` to its corresponding `title` from the metadata. This mapping helps in displaying readable product names during analysis or recommendation explanation. We also print an example to confirm the mapping works as expected.\n"
      ]
    },
    {
      "cell_type": "code",
      "execution_count": 8,
      "metadata": {
        "colab": {
          "base_uri": "https://localhost:8080/"
        },
        "id": "lfN3F4HC_n22",
        "outputId": "3ccffd9a-540b-4c66-e62d-58c8f2738c8c"
      },
      "outputs": [
        {
          "name": "stdout",
          "output_type": "stream",
          "text": [
            "Number of titles loaded: 71317\n",
            "\n",
            " Example ASIN: 0188399313\n",
            "Title: Lifefactory 4oz BPA Free Glass Baby Bottles - 4-pack-raspberry and Lilac\n"
          ]
        }
      ],
      "source": [
        "#Metadata preprocessing\n",
        "asin_to_title = dict(zip(meta_df['asin'], meta_df['title']))\n",
        "print(f\"Number of titles loaded: {len(asin_to_title)}\")\n",
        "example_item = ratings['item'].iloc[0]\n",
        "print(f\"\\n Example ASIN: {example_item}\")\n",
        "\n",
        "title = asin_to_title.get(example_item, \"Title not found\")\n",
        "print(f\"Title: {title}\")\n"
      ]
    },
    {
      "cell_type": "code",
      "execution_count": 9,
      "metadata": {
        "colab": {
          "base_uri": "https://localhost:8080/"
        },
        "id": "PHtvB6GFsAmr",
        "outputId": "31f36383-284f-42e6-e5a1-b1bb31cb489d"
      },
      "outputs": [
        {
          "name": "stdout",
          "output_type": "stream",
          "text": [
            "Missing values in each column:\n",
            "user         0\n",
            "item         0\n",
            "rating       0\n",
            "timestamp    0\n",
            "dtype: int64\n"
          ]
        }
      ],
      "source": [
        "# Check for missing values in the ratings dataset.This step ensures data quality before proceeding with modeling.\n",
        "# Since there are no missing values, we skip imputation.\n",
        "missing_values = ratings.isnull().sum()\n",
        "print(\"Missing values in each column:\")\n",
        "print(missing_values)\n",
        "\n",
        "# No imputation is needed in this case\n",
        "# ratings['rating'] = ratings['rating'].fillna(ratings['rating'].mean())\n"
      ]
    },
    {
      "cell_type": "markdown",
      "metadata": {
        "id": "QgeWfUYHDgF9"
      },
      "source": [
        "# Data Description\n"
      ]
    },
    {
      "cell_type": "markdown",
      "metadata": {},
      "source": [
        "We begin with a descriptive analysis of the ratings dataset to understand its overall structure. We examine the number of unique users and products, the distribution of ratings, and the frequency of ratings per item and per user. "
      ]
    },
    {
      "cell_type": "code",
      "execution_count": 10,
      "metadata": {
        "colab": {
          "base_uri": "https://localhost:8080/"
        },
        "id": "lGRf2YZ0qnbZ",
        "outputId": "336d988a-e83b-4793-b48e-4739cf8db182"
      },
      "outputs": [
        {
          "name": "stdout",
          "output_type": "stream",
          "text": [
            "Ratings Info:\n",
            "<class 'pandas.core.frame.DataFrame'>\n",
            "RangeIndex: 915446 entries, 0 to 915445\n",
            "Data columns (total 4 columns):\n",
            " #   Column     Non-Null Count   Dtype  \n",
            "---  ------     --------------   -----  \n",
            " 0   user       915446 non-null  object \n",
            " 1   item       915446 non-null  object \n",
            " 2   rating     915446 non-null  float64\n",
            " 3   timestamp  915446 non-null  int64  \n",
            "dtypes: float64(1), int64(1), object(2)\n",
            "memory usage: 27.9+ MB\n",
            "None\n",
            "\n",
            "Ratings Summary Stats:\n",
            "              rating     timestamp\n",
            "count  915446.000000  9.154460e+05\n",
            "mean        4.117695  1.336331e+09\n",
            "std         1.289458  7.284112e+07\n",
            "min         1.000000  9.653472e+08\n",
            "25%         4.000000  1.311811e+09\n",
            "50%         5.000000  1.361750e+09\n",
            "75%         5.000000  1.386288e+09\n",
            "max         5.000000  1.406074e+09\n",
            "Number of users: 531890\n",
            "Number of products: 64426\n"
          ]
        }
      ],
      "source": [
        "# Display general info and descriptive statistics of the ratings dataset\n",
        "# This provides a first overview of the structure, types, and distributions of the data\n",
        "print(\"Ratings Info:\")\n",
        "print(ratings.info())\n",
        "print(\"\\nRatings Summary Stats:\")\n",
        "print(ratings.describe())\n",
        "\n",
        "# Count number of unique users and products (ASINs)\n",
        "print(f\"Number of users: {ratings['user'].nunique()}\")\n",
        "print(f\"Number of products: {ratings['item'].nunique()}\")"
      ]
    },
    {
      "cell_type": "code",
      "execution_count": 11,
      "metadata": {
        "colab": {
          "base_uri": "https://localhost:8080/",
          "height": 1000
        },
        "id": "hVrPKgLhIlyq",
        "outputId": "c8b7aa57-7d6e-48a0-df41-184613f6e96e"
      },
      "outputs": [
        {
          "name": "stdout",
          "output_type": "stream",
          "text": [
            "Ratings Info:\n",
            "<class 'pandas.core.frame.DataFrame'>\n",
            "RangeIndex: 915446 entries, 0 to 915445\n",
            "Data columns (total 4 columns):\n",
            " #   Column     Non-Null Count   Dtype  \n",
            "---  ------     --------------   -----  \n",
            " 0   user       915446 non-null  object \n",
            " 1   item       915446 non-null  object \n",
            " 2   rating     915446 non-null  float64\n",
            " 3   timestamp  915446 non-null  int64  \n",
            "dtypes: float64(1), int64(1), object(2)\n",
            "memory usage: 27.9+ MB\n",
            "None\n",
            "\n",
            "Ratings Summary Stats:\n",
            "              rating     timestamp\n",
            "count  915446.000000  9.154460e+05\n",
            "mean        4.117695  1.336331e+09\n",
            "std         1.289458  7.284112e+07\n",
            "min         1.000000  9.653472e+08\n",
            "25%         4.000000  1.311811e+09\n",
            "50%         5.000000  1.361750e+09\n",
            "75%         5.000000  1.386288e+09\n",
            "max         5.000000  1.406074e+09\n",
            "Number of users: 531890\n",
            "Number of products: 64426\n"
          ]
        },
        {
          "data": {
            "image/png": "[encoded data removed]",
            "text/plain": [
              "<Figure size 600x400 with 1 Axes>"
            ]
          },
          "metadata": {},
          "output_type": "display_data"
        },
        {
          "data": {
            "image/png": "[encoded data removed]",
            "text/plain": [
              "<Figure size 800x400 with 1 Axes>"
            ]
          },
          "metadata": {},
          "output_type": "display_data"
        },
        {
          "data": {
            "image/png": "[encoded data removed]",
            "text/plain": [
              "<Figure size 800x400 with 1 Axes>"
            ]
          },
          "metadata": {},
          "output_type": "display_data"
        },
        {
          "name": "stdout",
          "output_type": "stream",
          "text": [
            "\n",
            "Timestamp Range:\n",
            "2000-08-04 00:00:00 to 2014-07-23 00:00:00\n"
          ]
        },
        {
          "data": {
            "image/png": "[encoded data removed]",
            "text/plain": [
              "<Figure size 1000x400 with 1 Axes>"
            ]
          },
          "metadata": {},
          "output_type": "display_data"
        },
        {
          "data": {
            "image/png": "[encoded data removed]",
            "text/plain": [
              "<Figure size 600x400 with 1 Axes>"
            ]
          },
          "metadata": {},
          "output_type": "display_data"
        },
        {
          "data": {
            "image/png": "[encoded data removed]",
            "text/plain": [
              "<Figure size 800x400 with 1 Axes>"
            ]
          },
          "metadata": {},
          "output_type": "display_data"
        },
        {
          "data": {
            "image/png": "[encoded data removed]",
            "text/plain": [
              "<Figure size 800x400 with 1 Axes>"
            ]
          },
          "metadata": {},
          "output_type": "display_data"
        }
      ],
      "source": [
        "# Display general info and descriptive statistics of the ratings dataset\n",
        "# This provides a first overview of the structure, types, and distributions of the data\n",
        "print(\"Ratings Info:\")\n",
        "print(ratings.info())\n",
        "print(\"\\nRatings Summary Stats:\")\n",
        "print(ratings.describe())\n",
        "\n",
        "# Count number of unique users and products (ASINs)\n",
        "print(f\"Number of users: {ratings['user'].nunique()}\")\n",
        "print(f\"Number of products: {ratings['item'].nunique()}\")\n",
        "\n",
        "# Plot the overall distribution of rating values (e.g., how many 5-star vs. 1-star)\n",
        "plt.figure(figsize=(6, 4))\n",
        "sns.countplot(data=ratings, x='rating')\n",
        "plt.title('Rating Distribution')\n",
        "plt.show()\n",
        "\n",
        "# Visualize how frequently each product has been rated\n",
        "item_rating_counts = ratings['item'].value_counts()\n",
        "plt.figure(figsize=(8, 4))\n",
        "sns.histplot(item_rating_counts, bins=50, log_scale=(False, True))\n",
        "plt.title('Number of Ratings per Item')\n",
        "plt.xlabel('Ratings per Item')\n",
        "plt.show()\n",
        "\n",
        "# Visualize how many ratings each user gave\n",
        "user_rating_counts = ratings['user'].value_counts()\n",
        "plt.figure(figsize=(8, 4))\n",
        "sns.histplot(user_rating_counts, bins=50, log_scale=(False, True))\n",
        "plt.title('Number of Ratings per User')\n",
        "plt.xlabel('Ratings per User')\n",
        "plt.show()\n",
        "\n",
        "# Convert UNIX timestamp to datetime to analyze temporal trends\n",
        "ratings['timestamp'] = pd.to_datetime(ratings['timestamp'], unit='s', errors='coerce')\n",
        "print(\"\\nTimestamp Range:\")\n",
        "print(ratings['timestamp'].min(), \"to\", ratings['timestamp'].max())\n",
        "\n",
        "# Plot how many ratings were made per month\n",
        "plt.figure(figsize=(10, 4))\n",
        "ratings['timestamp'].dt.to_period('M').value_counts().sort_index().plot()\n",
        "plt.title('Number of Ratings Over Time')\n",
        "plt.ylabel('Ratings')\n",
        "plt.xlabel('Time (monthly)')\n",
        "plt.show()\n",
        "\n",
        "# Boxplot to examine potential skewness in rating values\n",
        "plt.figure(figsize=(6, 4))\n",
        "sns.boxplot(x=ratings['rating'])\n",
        "plt.title('Boxplot of Ratings')\n",
        "plt.show()\n",
        "\n",
        "# Plot average rating per user to check user-specific bias\n",
        "user_mean_ratings = ratings.groupby('user')['rating'].mean()\n",
        "plt.figure(figsize=(8, 4))\n",
        "sns.histplot(user_mean_ratings, bins=40)\n",
        "plt.title('Average Rating per User')\n",
        "plt.xlabel('Average Rating')\n",
        "plt.ylabel('User Count')\n",
        "plt.grid(True)\n",
        "plt.show()\n",
        "\n",
        "# Plot average rating per item to check product-specific bias\n",
        "item_mean_ratings = ratings.groupby('item')['rating'].mean()\n",
        "plt.figure(figsize=(8, 4))\n",
        "sns.histplot(item_mean_ratings, bins=40)\n",
        "plt.title('Average Rating per Item')\n",
        "plt.xlabel('Average Rating')\n",
        "plt.ylabel('Item Count')\n",
        "plt.grid(True)\n",
        "plt.show()\n"
      ]
    },
    {
      "cell_type": "markdown",
      "metadata": {
        "id": "QtCQ7XVU71sJ"
      },
      "source": [
        "### Most Frequently Rated Products"
      ]
    },
    {
      "cell_type": "markdown",
      "metadata": {},
      "source": [
        "We identified the top 5 most rated products by counting the frequency of each `item` (ASIN) in the ratings dataset. Using the metadata, we then retrieved the corresponding product titles to better interpret which items were most popular or most frequently interacted with.\n"
      ]
    },
    {
      "cell_type": "code",
      "execution_count": 12,
      "metadata": {
        "id": "FX6-FOGl71eu"
      },
      "outputs": [
        {
          "name": "stdout",
          "output_type": "stream",
          "text": [
            "\n",
            "Top 5 Most Rated Products:\n",
            "item\n",
            "B000IDSLOG    3648\n",
            "B000BNQC58    2923\n",
            "B00295MQLU    2832\n",
            "B0052QYLUM    2830\n",
            "B000YDDF6O    2682\n",
            "Name: count, dtype: int64\n",
            "\n",
            "Top 5 Product Titles by Rating Count:\n",
            "Vulli Sophie the Giraffe Teether\n",
            "Cloud b Twilight Constellation Night Light, Turtle\n",
            "Simple Wishes Hands-Free Breastpump Bra, Pink, XS-L\n",
            "Infant Optics DXR-5 2.4 GHz Digital Video Baby Monitor with Night Vision\n",
            "Baby Einstein Take Along Tunes\n"
          ]
        }
      ],
      "source": [
        "print(\"\\nTop 5 Most Rated Products:\")\n",
        "most_rated_items = ratings['item'].value_counts().head(5)\n",
        "print(most_rated_items)\n",
        "print(\"\\nTop 5 Product Titles by Rating Count:\")\n",
        "for asin in most_rated_items.index:\n",
        "    print(meta_df[meta_df['asin'] == asin]['title'].values[0])\n",
        "\n"
      ]
    },
    {
      "cell_type": "markdown",
      "metadata": {
        "id": "9DcOembV77LW"
      },
      "source": [
        "### Users with the Most Ratings"
      ]
    },
    {
      "cell_type": "markdown",
      "metadata": {},
      "source": [
        "We identified the top 5 most active users by counting the number of ratings each user provided. This helps understand user engagement and potential outliers who may heavily influence model training due to their high activity.\n"
      ]
    },
    {
      "cell_type": "code",
      "execution_count": 13,
      "metadata": {
        "id": "0tttRSyy8HrR"
      },
      "outputs": [
        {
          "name": "stdout",
          "output_type": "stream",
          "text": [
            "\n",
            "Top 5 Most Active Users:\n",
            "user\n",
            "ARIFCL50JD5SK     155\n",
            "AJGU56YG8G1DQ     140\n",
            "AF8SREA2XE7BJ     122\n",
            "AJC88791BZEW7     105\n",
            "A276OI0NHBYORX     95\n",
            "Name: count, dtype: int64\n"
          ]
        }
      ],
      "source": [
        "print(\"\\nTop 5 Most Active Users:\")\n",
        "print(ratings['user'].value_counts().head(5))\n"
      ]
    },
    {
      "cell_type": "markdown",
      "metadata": {},
      "source": [
        "To evaluate potential rating bias, we calculated the imbalance ratio between 5-star ratings and all other ratings. A high ratio (above 1.5) could indicate a strong skew toward positive reviews, potentially harming model generalization. In our case, the ratio was within acceptable limits, so no downsampling or rebalancing was required.\n"
      ]
    },
    {
      "cell_type": "code",
      "execution_count": 14,
      "metadata": {
        "colab": {
          "base_uri": "https://localhost:8080/"
        },
        "id": "6yNIwsX3VpS2",
        "outputId": "278b2250-d9a4-4cf8-dc48-cdeb63260f6b"
      },
      "outputs": [
        {
          "name": "stdout",
          "output_type": "stream",
          "text": [
            "rating\n",
            "1.0     76938\n",
            "2.0     56322\n",
            "3.0     82931\n",
            "4.0    165123\n",
            "5.0    534132\n",
            "Name: count, dtype: int64\n",
            "Imbalance ratio (5-stars / non-5): 1.40\n"
          ]
        }
      ],
      "source": [
        "#computing imbalance ration (above 1.5 is considered bad)\n",
        "rating_counts = ratings['rating'].value_counts().sort_index()\n",
        "print(rating_counts)\n",
        "\n",
        "five_star_df = ratings[ratings['rating'] == 5.0]\n",
        "non_five_star_df = ratings[ratings['rating'] != 5.0]\n",
        "\n",
        "imbalance_ratio = len(five_star_df) / len(non_five_star_df)\n",
        "print(f\"Imbalance ratio (5-stars / non-5): {imbalance_ratio:.2f}\")\n",
        "#it's okay then and we dont need to downsample"
      ]
    },
    {
      "cell_type": "markdown",
      "metadata": {},
      "source": [
        "We split the ratings dataset into training, evaluation, and test sets using an 80-10-10 split. This was done in two steps: first separating 80% for training and 20% as a temporary set. The temporary set was then evenly divided into evaluation and test sets. To simulate the real-world recommendation and the assignment task scenario, the `rating` column was removed from the evaluation and test sets, while the original values were preserved separately to compute prediction metrics.\n"
      ]
    },
    {
      "cell_type": "code",
      "execution_count": 15,
      "metadata": {
        "colab": {
          "base_uri": "https://localhost:8080/"
        },
        "id": "Fsc-O27goxqS",
        "outputId": "e6f4138c-e2a4-4a3f-96e6-e77dd5672807"
      },
      "outputs": [
        {
          "name": "stdout",
          "output_type": "stream",
          "text": [
            "Train size: 732356\n",
            "Eval size:  91545\n",
            "Test size:  91545\n"
          ]
        }
      ],
      "source": [
        "# Split into 80% train and 20% temporary (for eval + test)\n",
        "train_df, temp_df = train_test_split(ratings, test_size=0.2, random_state=42)\n",
        "\n",
        "# Split the remaining 20% equally into 10% eval and 10% test\n",
        "eval_df, test_df = train_test_split(temp_df, test_size=0.5, random_state=42)\n",
        "\n",
        "# Keep copies of true ratings for evaluation and test\n",
        "true_eval = eval_df.copy()\n",
        "true_test = test_df.copy()\n",
        "\n",
        "# Drop ratings to simulate the real prediction scenario\n",
        "eval_df = eval_df.drop(columns=['rating'])\n",
        "test_df = test_df.drop(columns=['rating'])\n",
        "\n",
        "# Print sizes of each set\n",
        "print(\"Train size:\", len(train_df))\n",
        "print(\"Eval size: \", len(eval_df))\n",
        "print(\"Test size: \", len(test_df))\n"
      ]
    },
    {
      "cell_type": "markdown",
      "metadata": {
        "id": "Jy4sXgNMInXx"
      },
      "source": [
        "# Recommendation systems"
      ]
    },
    {
      "cell_type": "markdown",
      "metadata": {
        "id": "MMzzfn6v9_cS"
      },
      "source": [
        "## Model 1 - Collaborative Filtering (Item-Item)"
      ]
    },
    {
      "cell_type": "markdown",
      "metadata": {
        "id": "UKRublWVuQRQ"
      },
      "source": [
        "**Sparsity matrix**"
      ]
    },
    {
      "cell_type": "markdown",
      "metadata": {},
      "source": [
        "We define a function to construct a sparse item-user matrix, where each row corresponds to a product (item) and each column to a user. The matrix cells contain rating values, and missing entries are implicitly set to zero. Additionally, we build two sets of mappings: one to convert user/item IDs to matrix indices, and their inverses to retrieve the original IDs from the matrix. These mappings are essential for interpreting predictions and computing similarities.\n"
      ]
    },
    {
      "cell_type": "code",
      "execution_count": 16,
      "metadata": {
        "id": "MUD49TpR-Kqh"
      },
      "outputs": [],
      "source": [
        "# create sparse item-user matrix for similarity calculation\n",
        "def create_X(df):\n",
        "    \"\"\"\n",
        "    - X, sparse item-user rating matrix (items as rows, users as columns),\n",
        "    - user_mapper, dict mapping user IDs to matrix column indices,\n",
        "    - item_mapper, dict mapping item IDs to matrix row indices,\n",
        "    - their inverse for convenience\n",
        "    \"\"\"\n",
        "    N = df['user'].nunique()\n",
        "    M = df['item'].nunique()\n",
        "\n",
        "    user_mapper = {u: i for i, u in enumerate(np.unique(df[\"user\"]))}\n",
        "    item_mapper = {i: j for j, i in enumerate(np.unique(df[\"item\"]))}\n",
        "\n",
        "    user_inv_mapper = {i: u for u, i in user_mapper.items()}\n",
        "    item_inv_mapper = {j: i for i, j in item_mapper.items()}\n",
        "\n",
        "    user_idx = [user_mapper[u] for u in df['user']]\n",
        "    item_idx = [item_mapper[i] for i in df['item']]\n",
        "\n",
        "    X = csr_matrix((df['rating'], (item_idx, user_idx)), shape=(M, N))\n",
        "\n",
        "    return X, user_mapper, item_mapper, user_inv_mapper, item_inv_mapper\n",
        "\n"
      ]
    },
    {
      "cell_type": "code",
      "execution_count": 17,
      "metadata": {
        "id": "Q_lpE_-H_-EH"
      },
      "outputs": [],
      "source": [
        "X_train, user_mapper, item_mapper, user_inv_mapper, item_inv_mapper = create_X(train_df)\n",
        "item_similarity = cosine_similarity(X_train)"
      ]
    },
    {
      "cell_type": "markdown",
      "metadata": {},
      "source": [
        "We calculate the sparsity of the item-user matrix, which represents the proportion of observed ratings relative to all possible user-item combinations. This is a key characteristic of recommendation systems, where users typically interact with only a small subset of items.\n"
      ]
    },
    {
      "cell_type": "code",
      "execution_count": 18,
      "metadata": {
        "colab": {
          "base_uri": "https://localhost:8080/"
        },
        "id": "W1pIfS-rAIzR",
        "outputId": "576284e7-06df-4ad6-aaeb-e91768deb64d"
      },
      "outputs": [
        {
          "name": "stdout",
          "output_type": "stream",
          "text": [
            "Matrix sparsity: 0.002733%\n"
          ]
        }
      ],
      "source": [
        "sparsity = X_train.count_nonzero() / float(X_train.shape[0] * X_train.shape[1])\n",
        "# Increased decimal precision to 6 digits (instead of 4) for a more accurate representation.\n",
        "print(f\"Matrix sparsity: {sparsity*100:.6f}%\")\n"
      ]
    },
    {
      "cell_type": "markdown",
      "metadata": {
        "id": "bZwT2xp1ynnu"
      },
      "source": [
        "The `predict_rating1` function estimates how a user would rate a given item by computing a weighted average of the ratings the user has given to similar items. It uses item-item cosine similarity to determine how \"close\" other items are to the target. If the user has no prior ratings or no meaningful similarities are found, the function returns `NaN`.\n"
      ]
    },
    {
      "cell_type": "code",
      "execution_count": 19,
      "metadata": {
        "id": "Jjn7OJDnh4I9"
      },
      "outputs": [],
      "source": [
        "def predict_rating1(user_id, item_id, X, item_similarity):\n",
        "    \"\"\"\n",
        "    Takes:\n",
        "    - user_id, ID of the user,\n",
        "    - item_id, ID of the item,\n",
        "    - X, sparse item-user rating matrix (items as rows, users as columns),\n",
        "    - item_similarity: item-item similarity matrix.\n",
        "\n",
        "    Outuput:\n",
        "    - A predicted rating (float!) for the given user-item pair using item-based collaborative filtering\n",
        "    \"\"\"\n",
        "    if user_id not in user_mapper or item_id not in item_mapper:\n",
        "        return np.nan\n",
        "\n",
        "    user_idx = user_mapper[user_id]\n",
        "    item_idx = item_mapper[item_id]\n",
        "\n",
        "    sim_vector = item_similarity[item_idx]  # take similarity of item_id with all other items\n",
        "    user_ratings = X[:, user_idx].toarray().flatten()\n",
        "\n",
        "    rated_indices = np.where(user_ratings > 0)[0]\n",
        "    if len(rated_indices) == 0:\n",
        "        return np.nan  # user has given 0 rating (shouldnt be possible but...)\n",
        "\n",
        "    sims = sim_vector[rated_indices]\n",
        "    ratings = user_ratings[rated_indices]\n",
        "\n",
        "    if np.sum(sims) == 0:\n",
        "        return np.nan  # not enough similar items to be meaningful\n",
        "\n",
        "    return np.dot(sims, ratings) / np.sum(sims)"
      ]
    },
    {
      "cell_type": "markdown",
      "metadata": {
        "id": "TBO0SM_Py2ij"
      },
      "source": [
        "This function evaluates the performance of the item-based collaborative filtering model by comparing predicted ratings against true ones. It adds a `predicted_rating` column to the input DataFrame and calculates RMSE and MAE on valid predictions only. If no predictions are made (e.g., due to sparsity or cold-start), the function returns `None`.\n"
      ]
    },
    {
      "cell_type": "code",
      "execution_count": 20,
      "metadata": {
        "id": "ox2ZBdnMj0Ku"
      },
      "outputs": [],
      "source": [
        "def evaluate_model1(df_with_ratings, X, item_similarity):\n",
        "    \"\"\"\n",
        "    Inputs:\n",
        "    - df_with_ratings: the DataFrame\n",
        "    - X: sparse item-user rating matrix,\n",
        "    - item_similarity: item-item similarity matrix.\n",
        "\n",
        "    Outputs:\n",
        "    - df: the input DataFrame with an added 'predicted_rating' column,\n",
        "    - rmse: root mean squared error of predictions,\n",
        "    - mae: mean absolute error of predictions.\n",
        "    \"\"\"\n",
        "    df = df_with_ratings.copy()\n",
        "    tqdm.pandas()\n",
        "    df['predicted_rating'] = df.progress_apply(\n",
        "        lambda row: predict_rating1(row['user'], row['item'], X, item_similarity),\n",
        "        axis=1\n",
        "    )\n",
        "    valid = df['predicted_rating'].notna()\n",
        "    if valid.sum() == 0:\n",
        "        print(\"No valid predictions.\")\n",
        "        return None\n",
        "\n",
        "    rmse = mean_squared_error(df.loc[valid, 'rating'], df.loc[valid, 'predicted_rating'])\n",
        "    mae = mean_absolute_error(df.loc[valid, 'rating'], df.loc[valid, 'predicted_rating'])\n",
        "    print(f\"RMSE: {rmse:.4f}\")\n",
        "    print(f\"MAE: {mae:.4f}\")\n",
        "    return df, rmse, mae"
      ]
    },
    {
      "cell_type": "markdown",
      "metadata": {
        "id": "-lO5JoQlzCSl"
      },
      "source": [
        "Training and eval of model 1"
      ]
    },
    {
      "cell_type": "code",
      "execution_count": 21,
      "metadata": {
        "colab": {
          "base_uri": "https://localhost:8080/"
        },
        "id": "eUK449lqrMF2",
        "outputId": "4b44d47d-10ad-4810-e014-827bd8cfd533"
      },
      "outputs": [
        {
          "name": "stderr",
          "output_type": "stream",
          "text": [
            "100%|██████████| 91545/91545 [01:05<00:00, 1394.30it/s]"
          ]
        },
        {
          "name": "stdout",
          "output_type": "stream",
          "text": [
            "RMSE: 1.8380\n",
            "MAE: 0.8698\n"
          ]
        },
        {
          "name": "stderr",
          "output_type": "stream",
          "text": [
            "\n"
          ]
        }
      ],
      "source": [
        "predicted_eval, eval_rmse, eval_mae = evaluate_model1(true_eval, X_train, item_similarity)\n"
      ]
    },
    {
      "cell_type": "code",
      "execution_count": 22,
      "metadata": {
        "colab": {
          "base_uri": "https://localhost:8080/"
        },
        "id": "T9tNNnHiB6AQ",
        "outputId": "fcf07814-75e3-4cd8-b294-ad25aea78a9b"
      },
      "outputs": [
        {
          "name": "stderr",
          "output_type": "stream",
          "text": [
            "100%|██████████| 91545/91545 [01:06<00:00, 1384.13it/s]"
          ]
        },
        {
          "name": "stdout",
          "output_type": "stream",
          "text": [
            "RMSE: 1.8023\n",
            "MAE: 0.8563\n"
          ]
        },
        {
          "name": "stderr",
          "output_type": "stream",
          "text": [
            "\n"
          ]
        }
      ],
      "source": [
        "predicted_test, test_rmse, test_mae = evaluate_model1(true_test, X_train, item_similarity)"
      ]
    },
    {
      "cell_type": "markdown",
      "metadata": {
        "id": "2M0r7VA-2wJP"
      },
      "source": [
        "## Model 2 - Content-Based Filtering"
      ]
    },
    {
      "cell_type": "markdown",
      "metadata": {},
      "source": [
        "To enhance the expressiveness of the content-based model, we combined product titles with their descriptions to generate richer text features. We truncated long descriptions to the first 50 words for consistency and efficiency. Using TF-IDF vectorization on this combined text, we computed item-to-item cosine similarities via the linear kernel. Only items with available metadata were kept, and users with just one rating were excluded to avoid cold-start effects.\n",
        "\n",
        "We then evaluated prediction performance for various `top_k` values to study the trade-off between accuracy and coverage. Ratings were predicted using a weighted average of similar items the user has already rated.\n"
      ]
    },
    {
      "cell_type": "code",
      "execution_count": 23,
      "metadata": {
        "id": "p9K1walc7B1w"
      },
      "outputs": [],
      "source": [
        "# Combine title and description for a richer item representation\n",
        "meta_clean = meta_df[['asin', 'title', 'description']].dropna(subset=['asin', 'title', 'description']).drop_duplicates(subset='asin')\n",
        "meta_clean['short_desc'] = meta_clean['description'].str.split().str[:50].str.join(\" \")\n",
        "meta_clean['text'] = meta_clean['title'] + \" \" + meta_clean['short_desc']\n",
        "meta_clean = meta_clean.sample(n=60000, random_state=42)\n",
        "\n",
        "# Compute TF-IDF vectors using combined text\n",
        "tfidf = TfidfVectorizer(stop_words='english')\n",
        "tfidf_matrix = tfidf.fit_transform(meta_clean['text'])\n",
        "from sklearn.metrics.pairwise import linear_kernel\n",
        "cosine_sim = linear_kernel(tfidf_matrix, tfidf_matrix) ## cosine crash\n",
        "\n",
        "# Mapping ASINs to index and back\n",
        "asin_to_index = pd.Series(meta_clean.index, index=meta_clean['asin'])\n",
        "index_to_asin = pd.Series(meta_clean['asin'].values, index=meta_clean.index)"
      ]
    },
    {
      "cell_type": "code",
      "execution_count": 24,
      "metadata": {
        "id": "KvK4_hXt7E2z"
      },
      "outputs": [],
      "source": [
        "# Filter ratings to items with metadata\n",
        "ratings_cb = ratings[ratings['item'].isin(meta_clean['asin'])].copy()\n",
        "ratings_cb = ratings_cb.drop_duplicates(subset=['user', 'item'])\n",
        "\n",
        "# Optional: remove users with only 1 rating\n",
        "user_counts = ratings_cb['user'].value_counts()\n",
        "ratings_cb = ratings_cb[ratings_cb['user'].isin(user_counts[user_counts >= 1].index)]\n",
        "\n",
        "# Reset index just in case\n",
        "ratings_cb.reset_index(drop=True, inplace=True)\n",
        "\n",
        "# Split into train, eval, test \n",
        "train_cb, temp_cb = train_test_split(ratings_cb, test_size=0.2, random_state=1)\n",
        "eval_cb, test_cb = train_test_split(temp_cb, test_size=0.5, random_state=1)\n",
        "test_cb = test_cb[test_cb['item'].isin(asin_to_index.index)].copy()\n",
        "true_eval_cb = eval_cb.copy()\n",
        "true_test_cb = test_cb.copy()\n",
        "\n",
        "# Build lookup dictionary for training set\n",
        "ratings_dict = {(row['user'], row['item']): row['rating'] for _, row in train_cb.iterrows()}\n"
      ]
    },
    {
      "cell_type": "code",
      "execution_count": 25,
      "metadata": {},
      "outputs": [],
      "source": [
        "user_means = train_cb.groupby('user')['rating'].mean().to_dict()\n",
        "global_mean = train_cb['rating'].mean()\n"
      ]
    },
    {
      "cell_type": "code",
      "execution_count": 26,
      "metadata": {
        "id": "8RshxJwH7KyQ"
      },
      "outputs": [],
      "source": [
        "# Predict rating using cosine similarity over title+description\n",
        "def predict_content(user_id, item_id, top_k=500):\n",
        "    if item_id not in asin_to_index:\n",
        "        return np.nan\n",
        "    idx = asin_to_index.get(item_id)\n",
        "    if idx is None or idx >= cosine_sim.shape[0]:\n",
        "        return np.nan\n",
        "\n",
        "    sim_scores = list(enumerate(cosine_sim[idx]))\n",
        "    #sim_scores = sorted(sim_scores, key=lambda x: x[1], reverse=True)[:top_k * 3]\n",
        "    sim_scores = sorted(sim_scores, key=lambda x: x[1], reverse=True)[:top_k * 5]\n",
        "\n",
        "\n",
        "    sims, ratings = [], []\n",
        "    for i, score in sim_scores:\n",
        "        asin = index_to_asin.get(i)\n",
        "        if asin is None:\n",
        "            continue\n",
        "        if (user_id, asin) in ratings_dict:\n",
        "            sims.append(score)\n",
        "            ratings.append(ratings_dict[(user_id, asin)])\n",
        "        if len(sims) >= top_k:\n",
        "            break\n",
        "\n",
        "    if not sims or np.sum(sims) == 0:\n",
        "        return user_means.get(user_id, global_mean)\n",
        "\n",
        "    return np.dot(sims, ratings) / np.sum(sims)\n"
      ]
    },
    {
      "cell_type": "code",
      "execution_count": null,
      "metadata": {
        "id": "xUzpWIUa7NIq"
      },
      "outputs": [
        {
          "name": "stdout",
          "output_type": "stream",
          "text": [
            "Testing top_k=5\n"
          ]
        },
        {
          "name": "stderr",
          "output_type": "stream",
          "text": [
            "100%|██████████| 82115/82115 [19:13<00:00, 71.22it/s] "
          ]
        },
        {
          "name": "stdout",
          "output_type": "stream",
          "text": [
            "top_k=5 → RMSE: 1.8999, MAE: 1.0137, Valid: 77484/82115\n",
            "\n"
          ]
        },
        {
          "name": "stderr",
          "output_type": "stream",
          "text": [
            "\n"
          ]
        }
      ],
      "source": [
        "results = {}\n",
        "\n",
        "print(f\"Testing top_k={5}\")\n",
        "test_copy = test_cb.copy()\n",
        "test_copy['predicted'] = test_copy.progress_apply(\n",
        "    lambda row: predict_content(row['user'], row['item'], top_k=k), axis=1\n",
        ")\n",
        "test_copy[\"true_rating\"] = true_test_cb[\"rating\"].values\n",
        "valid = test_copy['predicted'].notna()\n",
        "rmse = mean_squared_error(test_copy.loc[valid, 'true_rating'], test_copy.loc[valid, 'predicted'])\n",
        "mae = mean_absolute_error(test_copy.loc[valid, 'true_rating'], test_copy.loc[valid, 'predicted'])\n",
        "print(f\"top_k={5} → RMSE: {rmse:.4f}, MAE: {mae:.4f}, Valid: {valid.sum()}/{len(test_copy)}\\n\")\n",
        "\n",
        "results[5] = {'rmse': rmse, 'mae': mae, 'valid': valid.sum()}\n"
      ]
    },
    {
      "cell_type": "markdown",
      "metadata": {
        "id": "Kdzk0soz8qfY"
      },
      "source": [
        "## Model 3 - Matrix Factorization (SVD)"
      ]
    },
    {
      "cell_type": "markdown",
      "metadata": {},
      "source": [
        "We used the Surprise library to implement a matrix factorization model (SVD) and tuned its hyperparameters using grid search with 3-fold cross-validation.  After identifying the best configuration based on RMSE and MAE, we trained the final model on the training set and evaluated it on a separate test set. "
      ]
    },
    {
      "cell_type": "code",
      "execution_count": 27,
      "metadata": {
        "id": "GE8HYjiW7UVC"
      },
      "outputs": [],
      "source": [
        "# Use Surprise library for matrix factorization with grid search tuning\n",
        "reader = Reader(rating_scale=(1, 5))\n",
        "data = Dataset.load_from_df(ratings[['user', 'item', 'rating']], reader)\n",
        "trainset, testset = surprise_split(data, test_size=0.2, random_state=42)"
      ]
    },
    {
      "cell_type": "code",
      "execution_count": 28,
      "metadata": {
        "id": "UGUtm2Z_7Wnt"
      },
      "outputs": [],
      "source": [
        "# Define hyperparameter search space\n",
        "param_grid = {'n_factors': [50, 100], 'lr_all': [0.002, 0.005], 'reg_all': [0.02, 0.1], 'n_epochs': [20, 30]}\n",
        "gs = GridSearchCV(SVD, param_grid, measures=['rmse', 'mae'], cv=3)\n",
        "gs.fit(data)\n"
      ]
    },
    {
      "cell_type": "code",
      "execution_count": 29,
      "metadata": {
        "id": "PyYqBLON7Yb_"
      },
      "outputs": [
        {
          "name": "stdout",
          "output_type": "stream",
          "text": [
            "Best Params: {'n_factors': 50, 'lr_all': 0.005, 'reg_all': 0.1, 'n_epochs': 30}\n",
            "Best RMSE: 1.1979, Best MAE: 0.9343\n"
          ]
        }
      ],
      "source": [
        "# Display best hyperparameters and performance\n",
        "print(f\"Best Params: {gs.best_params['rmse']}\")\n",
        "print(f\"Best RMSE: {gs.best_score['rmse']:.4f}, Best MAE: {gs.best_score['mae']:.4f}\")\n"
      ]
    },
    {
      "cell_type": "code",
      "execution_count": null,
      "metadata": {
        "id": "RNsbzpv27abl"
      },
      "outputs": [
        {
          "name": "stdout",
          "output_type": "stream",
          "text": [
            "RMSE: 1.1937\n",
            "MAE:  0.9317\n",
            "Final SVD RMSE: 1.1937, MAE: 0.9317\n"
          ]
        }
      ],
      "source": [
        "# Train and evaluate the best model on test set\n",
        "best_model = gs.best_estimator['rmse']\n",
        "best_model.fit(trainset)\n",
        "predictions = best_model.test(testset)\n",
        "r1 = accuracy.rmse(predictions)\n",
        "m1 = accuracy.mae(predictions)\n",
        "print(f\"Final SVD RMSE: {r1:.4f}, MAE: {m1:.4f}\")"
      ]
    },
    {
      "cell_type": "markdown",
      "metadata": {
        "id": "UtkHPr6X8w3C"
      },
      "source": [
        "## Utils"
      ]
    },
    {
      "cell_type": "code",
      "execution_count": null,
      "metadata": {
        "id": "AB6yH3ckunFc"
      },
      "outputs": [],
      "source": [
        "# these are not in use rn but kept for eventual future reference\n",
        "def predict_rating(user_id, item_id, X, item_similarity, top_k=5):\n",
        "    if user_id not in user_mapper or item_id not in item_mapper:\n",
        "        return np.nan\n",
        "\n",
        "    user_idx = user_mapper[user_id]\n",
        "    item_idx = item_mapper[item_id]\n",
        "\n",
        "    sim_vector = item_similarity[item_idx]\n",
        "    user_ratings = X[:, user_idx].toarray().flatten()\n",
        "\n",
        "    rated_indices = np.where(user_ratings > 0)[0]\n",
        "    if len(rated_indices) == 0:\n",
        "        return np.nan\n",
        "\n",
        "    sims = sim_vector[rated_indices]\n",
        "    ratings = user_ratings[rated_indices]\n",
        "\n",
        "    if len(sims) > top_k:\n",
        "        top_k_idx = np.argsort(sims)[-top_k:]\n",
        "        sims = sims[top_k_idx]\n",
        "        ratings = ratings[top_k_idx]\n",
        "\n",
        "    if np.sum(sims) == 0:\n",
        "        return np.nan\n",
        "\n",
        "    return np.dot(sims, ratings) / np.sum(sims)\n",
        "\n",
        "#################################\n",
        "\n",
        "def evaluate(df, true_df, name=\"\"):\n",
        "    df = df.copy()\n",
        "    tqdm.pandas()\n",
        "    df['predicted_rating'] = df.progress_apply(\n",
        "        lambda row: predict_rating(row['user'], row['item'], X_train, item_similarity, top_k=5),\n",
        "        axis=1\n",
        "    )\n",
        "    df['true_rating'] = true_df['rating'].values\n",
        "    valid = df['predicted_rating'].notna()\n",
        "\n",
        "    rmse = mean_squared_error(df.loc[valid, 'true_rating'], df.loc[valid, 'predicted_rating'])\n",
        "    mae = mean_absolute_error(df.loc[valid, 'true_rating'], df.loc[valid, 'predicted_rating'])\n",
        "\n",
        "    print(f\"\\n{name} Set Evaluation:\")\n",
        "    print(f\"Valid predictions: {valid.sum()} / {len(df)}\")\n",
        "    print(f\"RMSE: {rmse:.4f}\")\n",
        "    print(f\"MAE:  {mae:.4f}\")\n",
        "    return df\n",
        "\n",
        "\n",
        "eval_df = evaluate(eval_df, true_eval, name=\"Validation\")\n",
        "test_df = evaluate(test_df, true_test, name=\"Test\")\n",
        "#####################\n"
      ]
    }
  ],
  "metadata": {
    "colab": {
      "gpuType": "T4",
      "provenance": []
    },
    "kernelspec": {
      "display_name": "surpriseenv",
      "language": "python",
      "name": "python3"
    },
    "language_info": {
      "codemirror_mode": {
        "name": "ipython",
        "version": 3
      },
      "file_extension": ".py",
      "mimetype": "text/x-python",
      "name": "python",
      "nbconvert_exporter": "python",
      "pygments_lexer": "ipython3",
      "version": "3.10.16"
    }
  },
  "nbformat": 4,
  "nbformat_minor": 0
}
